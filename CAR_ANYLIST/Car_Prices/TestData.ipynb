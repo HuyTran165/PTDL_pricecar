{
 "cells": [
  {
   "cell_type": "code",
   "execution_count": 25,
   "id": "e283da2c",
   "metadata": {},
   "outputs": [
    {
     "name": "stdout",
     "output_type": "stream",
     "text": [
      "False\n"
     ]
    },
    {
     "name": "stderr",
     "output_type": "stream",
     "text": [
      "<>:2: SyntaxWarning: invalid escape sequence '\\D'\n",
      "<>:2: SyntaxWarning: invalid escape sequence '\\D'\n",
      "C:\\Users\\ADMIN\\AppData\\Local\\Temp\\ipykernel_29740\\772648966.py:2: SyntaxWarning: invalid escape sequence '\\D'\n",
      "  print(os.path.exists(\"CD:\\DOWNLOAD\\CAR_ANYLIST\\Car_Prices\\rf1_base_rf.pkl\"))\n"
     ]
    }
   ],
   "source": [
    "import os\n",
    "print(os.path.exists(\"CD:\\DOWNLOAD\\CAR_ANYLIST\\Car_Prices\\rf1_base_rf.pkl\"))\n"
   ]
  },
  {
   "cell_type": "code",
   "execution_count": 23,
   "id": "91b8be99",
   "metadata": {},
   "outputs": [
    {
     "name": "stdout",
     "output_type": "stream",
     "text": [
      "Tệp rf1_base.rf.pkl không tồn tại!\n"
     ]
    }
   ],
   "source": [
    "import os.path\n",
    "\n",
    "file_path ='rf1_base.rf.pkl'  # hoặc đường dẫn đầy đủ tới tệp\n",
    "if os.path.isfile(file_path):\n",
    "    print(f\"Tệp {file_path} tồn tại!\")\n",
    "else:\n",
    "    print(f\"Tệp {file_path} không tồn tại!\")"
   ]
  },
  {
   "cell_type": "code",
   "execution_count": 18,
   "id": "e56e7f8f",
   "metadata": {},
   "outputs": [
    {
     "name": "stdout",
     "output_type": "stream",
     "text": [
      "Thư mục hiện tại: d:\\DOWNLOAD\\CAR_ANYLIST\\Car_Prices\n",
      "Các tệp trong thư mục:\n",
      "1_1Data Cleaning Car_drop_model.ipynb\n",
      "1_Data Cleaning Car_drop_model.ipynb\n",
      "2_Kiểm tra các Giả định với EDA.ipynb\n",
      "3_Hồi Quy Tuyến TínhTest.ipynb\n",
      "4_Random_Forest_2_with_model_column.ipynb\n",
      "Car_cleaned.csv\n",
      "Car_cleaned_with_Model.csv\n",
      "Car_preproccesed.csv\n",
      "PP Phân Vị.ipynb\n",
      "rf1_base_rf.pkl\n",
      "TestData.ipynb\n",
      "Understanding sklearn.ipynb\n",
      "Wed_CarPrediction.py\n",
      "Tệp d:\\DOWNLOAD\\CAR_ANYLIST\\Car_Prices\\rf1_base.rf.pkl không tồn tại!\n"
     ]
    }
   ],
   "source": [
    "import os\n",
    "\n",
    "# Lấy đường dẫn hiện tại\n",
    "current_dir = os.getcwd()\n",
    "print(f\"Thư mục hiện tại: {current_dir}\")\n",
    "\n",
    "# Liệt kê tất cả các tệp trong thư mục hiện tại\n",
    "files = os.listdir(current_dir)\n",
    "print(\"Các tệp trong thư mục:\")\n",
    "for file in files:\n",
    "    print(file)\n",
    "\n",
    "# Kiểm tra tệp cụ thể\n",
    "file_path = os.path.join(current_dir, 'rf1_base.rf.pkl')\n",
    "if os.path.isfile(file_path):\n",
    "    print(f\"Tệp {file_path} tồn tại!\")\n",
    "else:\n",
    "    print(f\"Tệp {file_path} không tồn tại!\")"
   ]
  },
  {
   "cell_type": "code",
   "execution_count": 21,
   "id": "9e616721",
   "metadata": {},
   "outputs": [
    {
     "name": "stdout",
     "output_type": "stream",
     "text": [
      "Tìm thấy tệp pickle: rf1_base_rf.pkl\n",
      "Có thể mở tệp rf1_base_rf.pkl\n",
      "Lỗi khi tải model: invalid load key, 'x'.\n"
     ]
    }
   ],
   "source": [
    "import os\n",
    "\n",
    "# Để xem chính xác tên tệp trong thư mục\n",
    "current_dir = os.getcwd()\n",
    "files = os.listdir(current_dir)\n",
    "for file in files:\n",
    "    if \"pkl\" in file.lower():  # Tìm tất cả các tệp pkl\n",
    "        print(f\"Tìm thấy tệp pickle: {file}\")\n",
    "        # Thử mở tệp này\n",
    "        try:\n",
    "            with open(file, 'rb') as f:\n",
    "                print(f\"Có thể mở tệp {file}\")\n",
    "                # Sử dụng tên tệp này trong code chính\n",
    "                correct_file = file\n",
    "        except:\n",
    "            print(f\"Không thể mở tệp {file}\")\n",
    "\n",
    "# Sau khi tìm được tên chính xác, sử dụng nó\n",
    "import pickle\n",
    "try:\n",
    "    with open(correct_file, 'rb') as file:\n",
    "        model = pickle.load(file)\n",
    "    print(\"Đã tải model thành công!\")\n",
    "except Exception as e:\n",
    "    print(f\"Lỗi khi tải model: {e}\")"
   ]
  }
 ],
 "metadata": {
  "kernelspec": {
   "display_name": "venv",
   "language": "python",
   "name": "python3"
  },
  "language_info": {
   "codemirror_mode": {
    "name": "ipython",
    "version": 3
   },
   "file_extension": ".py",
   "mimetype": "text/x-python",
   "name": "python",
   "nbconvert_exporter": "python",
   "pygments_lexer": "ipython3",
   "version": "3.13.2"
  }
 },
 "nbformat": 4,
 "nbformat_minor": 5
}
